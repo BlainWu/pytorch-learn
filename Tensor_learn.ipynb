{
 "cells": [
  {
   "cell_type": "code",
   "execution_count": 2,
   "metadata": {},
   "outputs": [],
   "source": [
    "import torch as t\n",
    "#_是inplace的调用方式，会修改自己读书数据例如a_.add(b)会导致a的值改变\n",
    "#Tensor和numpy用法很像"
   ]
  },
  {
   "cell_type": "code",
   "execution_count": 30,
   "metadata": {},
   "outputs": [
    {
     "name": "stdout",
     "output_type": "stream",
     "text": [
      "tensor([[2.0690e+31, 3.0949e-41, 2.0383e+31],\n",
      "        [3.0949e-41, 1.4013e-45, 3.0949e-41]])\n",
      "tensor([[1., 2., 3.],\n",
      "        [4., 5., 6.]])\n",
      "tensor([[1., 1., 1.],\n",
      "        [1., 1., 1.]])\n",
      "tensor([[0., 0., 0.],\n",
      "        [0., 0., 0.]])\n",
      "tensor([1, 3, 5, 7])\n",
      "tensor([ 1.0000,  5.5000, 10.0000])\n",
      "tensor([[-1.8627, -0.1912, -0.0964],\n",
      "        [-1.3466, -1.2364, -0.3953]])\n",
      "tensor([[1., 0., 0., 0., 0.],\n",
      "        [0., 1., 0., 0., 0.],\n",
      "        [0., 0., 1., 0., 0.],\n",
      "        [0., 0., 0., 1., 0.]])\n"
     ]
    }
   ],
   "source": [
    "#Tensor的创建\n",
    "\n",
    "#a的值是随机值\n",
    "print(t.Tensor(2,3))\n",
    "\n",
    "#确定矩阵的值\n",
    "print(t.Tensor([[1,2,3],[4,5,6]]))\n",
    "\n",
    "#全1矩阵\n",
    "print(t.ones(2,3))\n",
    "\n",
    "#全0矩阵\n",
    "print(t.zeros(2,3))\n",
    "\n",
    "#步长生成\n",
    "print(t.arange(1,9,2))\n",
    "\n",
    "#线性平分\n",
    "print(t.linspace(1,10,3))\n",
    "\n",
    "#随机数列\n",
    "print(t.randn(2,3))\n",
    "\n",
    "#对角线为1\n",
    "print(t.eye(4,5))"
   ]
  },
  {
   "cell_type": "code",
   "execution_count": 31,
   "metadata": {},
   "outputs": [
    {
     "name": "stdout",
     "output_type": "stream",
     "text": [
      "torch.Size([2, 3])\n",
      "torch.Size([2, 3])\n",
      "6\n"
     ]
    }
   ],
   "source": [
    "#将tensor转成lists\n",
    "b.tolist()\n",
    "#查看tenosr的尺寸\n",
    "print( b.size() )\n",
    "print( b.shape )\n",
    "print( b.numel() )"
   ]
  },
  {
   "cell_type": "code",
   "execution_count": 59,
   "metadata": {},
   "outputs": [
    {
     "name": "stdout",
     "output_type": "stream",
     "text": [
      "tensor([0, 1, 2, 3, 4, 5])\n",
      "tensor([[0, 1, 2],\n",
      "        [3, 4, 5]])\n",
      "tensor([[0, 1, 2],\n",
      "        [3, 4, 5]])\n",
      "torch.Size([1, 2, 3])\n",
      "torch.Size([2, 3])\n"
     ]
    }
   ],
   "source": [
    "#形状变换\n",
    "a=t.arange(0,6)\n",
    "b=t.Tensor([[1,2,3],[4,5,6]])\n",
    "print(a)\n",
    "\n",
    "#二维固定转换\n",
    "print(a.view(2,3))\n",
    "\n",
    "#单一固定\n",
    "print(a.view(-1,3))\n",
    "\n",
    "#把数组增加一个维度\n",
    "print(b.unsqueeze(0).size())\n",
    "print(b.squeeze(0).size())"
   ]
  },
  {
   "cell_type": "code",
   "execution_count": 62,
   "metadata": {},
   "outputs": [
    {
     "name": "stdout",
     "output_type": "stream",
     "text": [
      "tensor([[1., 2., 3.]])\n",
      "tensor([[1.0000e+00, 2.0000e+00, 3.0000e+00, 4.0000e+00],\n",
      "        [5.0000e+00, 6.0000e+00, 4.2039e-45, 0.0000e+00],\n",
      "        [5.6052e-45, 0.0000e+00, 7.0065e-45, 0.0000e+00]])\n"
     ]
    }
   ],
   "source": [
    "#resize()和view()不同，resize可以改变出比原来尺寸大或者小的矩阵\n",
    "#且变成更小的以后，原来的还是保存着的。\n",
    "print(b.resize_(1,3))\n",
    "print(b.resize_(3,4))"
   ]
  }
 ],
 "metadata": {
  "kernelspec": {
   "display_name": "pytorch",
   "language": "python",
   "name": "pytorch"
  },
  "language_info": {
   "codemirror_mode": {
    "name": "ipython",
    "version": 3
   },
   "file_extension": ".py",
   "mimetype": "text/x-python",
   "name": "python",
   "nbconvert_exporter": "python",
   "pygments_lexer": "ipython3",
   "version": "3.7.5"
  }
 },
 "nbformat": 4,
 "nbformat_minor": 2
}
