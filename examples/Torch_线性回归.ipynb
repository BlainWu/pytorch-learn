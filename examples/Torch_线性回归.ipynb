{
 "cells": [
  {
   "cell_type": "code",
   "execution_count": 4,
   "metadata": {},
   "outputs": [],
   "source": [
    "import torch as t\n",
    "%matplotlib inline\n",
    "#这个inline可以使得不用plt.show就可以把图像画出来\n",
    "from matplotlib import pyplot as plt\n",
    "from IPython import display"
   ]
  },
  {
   "cell_type": "code",
   "execution_count": 14,
   "metadata": {},
   "outputs": [],
   "source": [
    "#设置随机种子，达到一种伪随即的状态，在不同的电脑上也能有同样的输出\n",
    "\n",
    "t.manual_seed(1000)\n",
    "#t.rand生成是均匀分布，而randn是正态分布\n",
    "def get_fake_data(batch_size=8):\n",
    "    '''产生随即数据：y=x*2+3,加上一些噪声'''\n",
    "    x = t.rand(batch_size,1)*20\n",
    "    y=x*2+(1+t.randn(batch_size,1))*3\n",
    "    return x,y"
   ]
  },
  {
   "cell_type": "code",
   "execution_count": 76,
   "metadata": {},
   "outputs": [
    {
     "data": {
      "text/plain": [
       "<matplotlib.collections.PathCollection at 0x7f9985557e90>"
      ]
     },
     "execution_count": 76,
     "metadata": {},
     "output_type": "execute_result"
    },
    {
     "data": {
      "image/png": "[encoded data removed]",
      "text/plain": [
       "<Figure size 432x288 with 1 Axes>"
      ]
     },
     "metadata": {
      "needs_background": "light"
     },
     "output_type": "display_data"
    }
   ],
   "source": [
    "x,y = get_fake_data()\n",
    "plt.scatter(x.squeeze().numpy(),y.squeeze().numpy())"
   ]
  },
  {
   "cell_type": "code",
   "execution_count": 114,
   "metadata": {},
   "outputs": [
    {
     "data": {
      "image/png": "[encoded data removed]",
      "text/plain": [
       "<Figure size 432x288 with 1 Axes>"
      ]
     },
     "metadata": {
      "needs_background": "light"
     },
     "output_type": "display_data"
    },
    {
     "name": "stdout",
     "output_type": "stream",
     "text": [
      "2.0555081367492676 3.0358669757843018\n"
     ]
    }
   ],
   "source": [
    "#随即初始化一个w和b\n",
    "w=t.rand(1,1)\n",
    "b=t.zeros(1,1)\n",
    "\n",
    "#学习率\n",
    "lr =0.001\n",
    "\n",
    "for i in range(20000):\n",
    "    x,y=get_fake_data()\n",
    "    \n",
    "    #前传，计算loss\n",
    "    y_pred = x.mm(w)+b.expand_as(y)\n",
    "    loss = 0.5*(y_pred-y)**2\n",
    "    loss = loss.sum\n",
    "    \n",
    "    #反向：手动计算梯度\n",
    "    dloss = 1\n",
    "    dy_pred = dloss*(y_pred-y)\n",
    "    \n",
    "    dw = x.t().mm(dy_pred)\n",
    "    db = dy_pred.sum()\n",
    "    \n",
    "    #更新参数\n",
    "    w.sub_(lr*dw)\n",
    "    b.sub_(lr*db)\n",
    "    \n",
    "    if i%1000 ==0:\n",
    "        display.clear_output(wait=True)\n",
    "        x = t.arange(0,20).view(-1,1)\n",
    "        x=x.float()\n",
    "        y = x.mm(w) + b.expand_as(x)\n",
    "        plt.plot(x.numpy(),y.numpy()) #预测\n",
    "        \n",
    "        x2,y2 = get_fake_data(batch_size=20)\n",
    "        plt.scatter(x2.squeeze().numpy(),y2.squeeze().numpy())\n",
    "        \n",
    "        plt.xlim(20)\n",
    "        plt.ylim(0,41)\n",
    "        plt.show()\n",
    "        plt.pause(0.5)\n",
    "        \n",
    "        print(w.item(),b.item())"
   ]
  },
  {
   "cell_type": "code",
   "execution_count": null,
   "metadata": {},
   "outputs": [],
   "source": []
  }
 ],
 "metadata": {
  "kernelspec": {
   "display_name": "Python 3",
   "language": "python",
   "name": "python3"
  },
  "language_info": {
   "codemirror_mode": {
    "name": "ipython",
    "version": 3
   },
   "file_extension": ".py",
   "mimetype": "text/x-python",
   "name": "python",
   "nbconvert_exporter": "python",
   "pygments_lexer": "ipython3",
   "version": "3.7.4"
  }
 },
 "nbformat": 4,
 "nbformat_minor": 2
}
