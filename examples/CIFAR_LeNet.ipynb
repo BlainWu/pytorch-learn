{
 "cells": [
  {
   "cell_type": "code",
   "execution_count": 2,
   "metadata": {},
   "outputs": [
    {
     "name": "stdout",
     "output_type": "stream",
     "text": [
      "Files already downloaded and verified\n",
      "Files already downloaded and verified\n"
     ]
    }
   ],
   "source": [
    "#数据的下载和预处理\n",
    "import torch as t\n",
    "import torchvision as tv\n",
    "import torchvision.transforms as transforms\n",
    "from torchvision.transforms import ToPILImage\n",
    "show = ToPILImage() #把ToPIL函数别称为show，方便后面查看图片\n",
    "\n",
    "#第一次使用的话先下载\n",
    "#预先规定好数据接收后转成什么格式\n",
    "transform = transforms.Compose([\n",
    "    transforms.ToTensor(),#转换成tensor\n",
    "    transforms.Normalize((0.5,0.5,0.5),(0.5,0.5,0.5))\n",
    "])\n",
    "\n",
    "trainset = tv.datasets.CIFAR10(\n",
    "                        root='/home/wupeilin/PyTorch',\n",
    "                        train=True,\n",
    "                        download = True,\n",
    "                        transform = transform\n",
    "                        )\n",
    "\n",
    "trainloader = t.utils.data.DataLoader(\n",
    "                        trainset,\n",
    "                        batch_size = 4,\n",
    "                        shuffle = True\n",
    "                        )\n",
    "\n",
    "testset = tv.datasets.CIFAR10(\n",
    "                        root='/home/wupeilin/PyTorch',\n",
    "                        train=False,\n",
    "                        download = True,\n",
    "                        transform = transform\n",
    "                        )\n",
    "\n",
    "testloader = t.utils.data.DataLoader(\n",
    "                        testset,\n",
    "                        batch_size = 4,\n",
    "                        shuffle = False\n",
    "                        )"
   ]
  },
  {
   "cell_type": "code",
   "execution_count": 3,
   "metadata": {},
   "outputs": [
    {
     "data": {
      "text/plain": [
       "'小鹿'"
      ]
     },
     "execution_count": 3,
     "metadata": {},
     "output_type": "execute_result"
    }
   ],
   "source": [
    "classes = ('大飞机','小汽车','小鸟','猫咪','小鹿',\n",
    "          '小狗','蛤','大马','大轮船','大卡车')\n",
    "\n",
    "#可以访问数据\n",
    "(data,label) = trainset[10]\n",
    "classes[label]\n"
   ]
  },
  {
   "cell_type": "code",
   "execution_count": 4,
   "metadata": {},
   "outputs": [
    {
     "name": "stdout",
     "output_type": "stream",
     "text": [
      "LeNet(\n",
      "  (conv1): Conv2d(3, 6, kernel_size=(5, 5), stride=(1, 1))\n",
      "  (conv2): Conv2d(6, 16, kernel_size=(5, 5), stride=(1, 1))\n",
      "  (fc1): Linear(in_features=400, out_features=120, bias=True)\n",
      "  (fc2): Linear(in_features=120, out_features=84, bias=True)\n",
      "  (fc3): Linear(in_features=84, out_features=10, bias=True)\n",
      ")\n"
     ]
    }
   ],
   "source": [
    "#定义网络LeNet\n",
    "import torch.nn as nn\n",
    "import torch.nn.functional as Func\n",
    "\n",
    "class LeNet(nn.Module):\n",
    "    def __init__(self):\n",
    "        #nn.module的子类必须在构造函数中执行父类的构造函数\n",
    "        #下面的等价于nn.Module.__init__(self)\n",
    "        super(LeNet,self).__init__()\n",
    "        #卷基层'1'输入图片为单通道图片，‘6’为输出通道数，'5'表示卷积核5*5\n",
    "        self.conv1 = nn.Conv2d(3,6,5)\n",
    "        self.conv2 = nn.Conv2d(6,16,5)\n",
    "        #全链接层，y=wh+b\n",
    "        self.fc1 = nn.Linear(16*5*5,120)\n",
    "        self.fc2 = nn.Linear(120,84)\n",
    "        self.fc3 = nn.Linear(84,10)\n",
    "        \n",
    "    def forward(self,x):\n",
    "        #卷积->激活->池化 \n",
    "        x = Func.max_pool2d(Func.relu(self.conv1(x)),(2,2))\n",
    "        x = Func.max_pool2d(Func.relu(self.conv2(x)),2)\n",
    "        #把x重新排列，默认-1\n",
    "        x = x.view(x.size()[0],-1)\n",
    "        x = Func.relu(self.fc1(x))\n",
    "        x = Func.relu(self.fc2(x))\n",
    "        x = self.fc3(x)\n",
    "        return x\n",
    "net = LeNet()\n",
    "print(net)"
   ]
  },
  {
   "cell_type": "code",
   "execution_count": 5,
   "metadata": {},
   "outputs": [],
   "source": [
    "#定义损失函数和优化器\n",
    "from torch import optim\n",
    "\n",
    "criterion = nn.CrossEntropyLoss()\n",
    "optimizer = optim.SGD(net.parameters(),lr=0.001,momentum=0.90)"
   ]
  },
  {
   "cell_type": "code",
   "execution_count": 7,
   "metadata": {},
   "outputs": [
    {
     "name": "stdout",
     "output_type": "stream",
     "text": [
      "[1, 2000] loss :2.190\n",
      "[1, 4000] loss :1.835\n",
      "[1, 6000] loss :1.702\n",
      "[1, 8000] loss :1.598\n",
      "[1,10000] loss :1.532\n",
      "[1,12000] loss :1.483\n",
      "[2, 2000] loss :1.415\n",
      "[2, 4000] loss :1.408\n",
      "[2, 6000] loss :1.363\n",
      "[2, 8000] loss :1.377\n",
      "[2,10000] loss :1.337\n",
      "[2,12000] loss :1.300\n",
      "完成训练\n"
     ]
    }
   ],
   "source": [
    "from torch.autograd import Variable\n",
    "#训练网络\n",
    "for epoch in range(2):\n",
    "    running_loss = 0.0\n",
    "    for i,data in enumerate(trainloader,0):#其中0是起始位置\n",
    "        #输入数据\n",
    "        inputs,labels = data\n",
    "        inputs,labels = Variable(inputs),Variable(labels)\n",
    "        if t.cuda.is_available():\n",
    "            net.cuda()\n",
    "            inputs=inputs.cuda()\n",
    "            labels=labels.cuda()\n",
    "\n",
    "        \n",
    "        #梯度清零\n",
    "        optimizer.zero_grad()\n",
    "        \n",
    "        #前传和反向传播\n",
    "        outputs = net(inputs)\n",
    "        loss = criterion(outputs,labels)\n",
    "        loss.backward()\n",
    "        \n",
    "        #参数更新\n",
    "        optimizer.step()\n",
    "        \n",
    "        running_loss += loss.item()\n",
    "        if i %2000 == 1999:\n",
    "            print('[%d,%5d] loss :%.3f'\\\n",
    "                 %(epoch+1,i+1,running_loss/2000))\n",
    "            running_loss = 0.0\n",
    "print(\"完成训练\")"
   ]
  },
  {
   "cell_type": "code",
   "execution_count": null,
   "metadata": {},
   "outputs": [],
   "source": [
    "dataiter = iter(trainloader)\n",
    "images, labels = dataiter.next()\n",
    "print(\"实际标签:\",''.join(\\\n",
    "                    '%08s'%classes[labels[j]] for j in range(4)))\n",
    "show(tv.utils.make_grid(images /2 -0.5)).resize((400,100))"
   ]
  },
  {
   "cell_type": "code",
   "execution_count": null,
   "metadata": {},
   "outputs": [],
   "source": [
    "outputs = net(Variable(images))\n",
    "_,predicted=t.max(outputs.data,1)\n",
    "print(\"预测结果:\",' '.join('%5s'\\\n",
    "                      % classes[predicted[j]] for j in range(4)))"
   ]
  },
  {
   "cell_type": "code",
   "execution_count": null,
   "metadata": {},
   "outputs": [],
   "source": [
    "#测准确率\n",
    "correct = 0\n",
    "total = 0\n",
    "for data in testloader:\n",
    "    images,labels = data\n",
    "    outputs = net(Variable(images))\n",
    "    #取输出可能性最大的一类\n",
    "    _,predicted = t.max(outputs.data,1)\n",
    "    total +=labels.size(0)\n",
    "    correct +=(predicted == labels).sum()\n",
    "\n",
    "print(correct)\n",
    "print(\"测试得出的准确度为: %f  %%\" % (100*correct/total))    "
   ]
  },
  {
   "cell_type": "code",
   "execution_count": null,
   "metadata": {},
   "outputs": [],
   "source": []
  },
  {
   "cell_type": "code",
   "execution_count": null,
   "metadata": {},
   "outputs": [],
   "source": [
    "\n"
   ]
  }
 ],
 "metadata": {
  "kernelspec": {
   "display_name": "pytorch",
   "language": "python",
   "name": "pytorch"
  },
  "language_info": {
   "codemirror_mode": {
    "name": "ipython",
    "version": 3
   },
   "file_extension": ".py",
   "mimetype": "text/x-python",
   "name": "python",
   "nbconvert_exporter": "python",
   "pygments_lexer": "ipython3",
   "version": "3.7.5"
  }
 },
 "nbformat": 4,
 "nbformat_minor": 2
}
