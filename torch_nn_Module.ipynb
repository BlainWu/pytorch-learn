{
 "cells": [
  {
   "cell_type": "code",
   "execution_count": 1,
   "metadata": {},
   "outputs": [],
   "source": [
    "#虽然有auto_grad可以使用，但是如果要只用手写则工作量会巨大\n",
    "#torch.nn的核心数据结构是module，可以表示一个层也可以表示很多层组成的网络"
   ]
  },
  {
   "cell_type": "code",
   "execution_count": 20,
   "metadata": {},
   "outputs": [],
   "source": [
    "#实现全连接层 y=Wx+B\n",
    "import torch as t\n",
    "import torch.nn as nn\n",
    "from torch.autograd import variable as var\n",
    "\n",
    "class Linear(nn.Module):#从nn继承\n",
    "    def __init__(self,in_features,out_features):\n",
    "        nn.Module.__init__(self) #或者snn.Module.__init_(self) #或者uper(Linear,self).__init__()\n",
    "        #在自己构造的函数中自己定nn.Module.__init_(self) #或者义可学习的参数，并封装成Paramters\n",
    "        #parameters是一种特殊的variable，其默认是可以求导\n",
    "        self.w = nn.Parameter(t.randn(in_features,out_features))\n",
    "        self.b = nn.Parameter(t.randn(out_features))\n",
    "        \n",
    "    def forward(self,x):\n",
    "        x = x.mm(self.w)\n",
    "        return x + self.b.expand_as(x) #expand是把前面的tensor变成和后面x形状一样的tensor\n",
    "    #在写的时候不用写backward，因为nn模块可以使用autograd自动求"
   ]
  },
  {
   "cell_type": "code",
   "execution_count": 25,
   "metadata": {},
   "outputs": [
    {
     "data": {
      "text/plain": [
       "tensor([[-3.9919, -2.2863, -7.5598],\n",
       "        [ 1.6921, -0.7332, -0.7921]], grad_fn=<AddBackward0>)"
      ]
     },
     "execution_count": 25,
     "metadata": {},
     "output_type": "execute_result"
    }
   ],
   "source": [
    "layer = Linear(4,3)\n",
    "inputs = var(t.randn(2,4))\n",
    "output = layer(inputs)\n",
    "output"
   ]
  },
  {
   "cell_type": "code",
   "execution_count": 27,
   "metadata": {
    "scrolled": true
   },
   "outputs": [
    {
     "name": "stdout",
     "output_type": "stream",
     "text": [
      "w Parameter containing:\n",
      "tensor([[ 0.5674, -0.9214,  0.4878],\n",
      "        [ 0.8759, -1.9884, -0.4471],\n",
      "        [-1.4719, -1.4856, -1.8592],\n",
      "        [ 0.7325,  0.3287,  1.8842]], requires_grad=True)\n",
      "b Parameter containing:\n",
      "tensor([ 0.5895,  0.7750, -0.3620], requires_grad=True)\n"
     ]
    }
   ],
   "source": [
    "#Module模块中，可以使用named_parameters或者parameter返回迭代其，前者会给每个参数加上名字\n",
    "for name,parameter in layer.named_parameters():\n",
    "    print(name,parameter)"
   ]
  },
  {
   "cell_type": "code",
   "execution_count": 29,
   "metadata": {},
   "outputs": [],
   "source": [
    "#多层感知机的实现，两层全连接，使用sigmoid激活函数\n",
    "class Perceptron(nn.Module):\n",
    "    def __init__(self,input_features,hidden_features,output_features):\n",
    "        nn.Module.__init__(self)\n",
    "        self.layer1 = Linear(input_features,hidden_features)\n",
    "        self.layer2 = Linear(hidden_features,output_features)\n",
    "        \n",
    "    def forward(self,x):\n",
    "        x = layer1(x)\n",
    "        x = t.sigmoid(x)\n",
    "        x = layer2(x)\n",
    "        return x"
   ]
  },
  {
   "cell_type": "code",
   "execution_count": 36,
   "metadata": {},
   "outputs": [
    {
     "name": "stdout",
     "output_type": "stream",
     "text": [
      "layer1.w torch.Size([3, 4])\n",
      "layer1.b torch.Size([4])\n",
      "layer2.w torch.Size([4, 1])\n",
      "layer2.b torch.Size([1])\n"
     ]
    }
   ],
   "source": [
    "perceptron = Perceptron(3,4,1)#仅仅是例子\n",
    "for name,param in perceptron.named_parameters():#注意括号\n",
    "    print (name,param.size())"
   ]
  }
 ],
 "metadata": {
  "kernelspec": {
   "display_name": "Python 3",
   "language": "python",
   "name": "python3"
  },
  "language_info": {
   "codemirror_mode": {
    "name": "ipython",
    "version": 3
   },
   "file_extension": ".py",
   "mimetype": "text/x-python",
   "name": "python",
   "nbconvert_exporter": "python",
   "pygments_lexer": "ipython3",
   "version": "3.7.4"
  }
 },
 "nbformat": 4,
 "nbformat_minor": 2
}
