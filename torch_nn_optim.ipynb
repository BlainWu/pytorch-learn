{
 "cells": [
  {
   "cell_type": "code",
   "execution_count": 2,
   "metadata": {},
   "outputs": [],
   "source": [
    "#pytorch将常用的优化算法封装在torch.optim中，\n",
    "#所有优化方法都是继承基类optim.Optimizer\n",
    "#下面以最基本的优化方法--梯度下降SGD举例\n",
    "#主要学习（1）使用基本方法（2）不同部分设置不同的学习率（3）学会调整系学习率"
   ]
  },
  {
   "cell_type": "code",
   "execution_count": 9,
   "metadata": {},
   "outputs": [
    {
     "data": {
      "text/plain": [
       "<bound method Module.parameters of Net(\n",
       "  (features): Sequential(\n",
       "    (0): Conv2d(3, 6, kernel_size=(5, 5), stride=(1, 1))\n",
       "    (1): ReLU()\n",
       "    (2): MaxPool2d(kernel_size=2, stride=2, padding=0, dilation=1, ceil_mode=False)\n",
       "    (3): Conv2d(6, 16, kernel_size=(5, 5), stride=(1, 1))\n",
       "    (4): ReLU()\n",
       "    (5): MaxPool2d(kernel_size=2, stride=2, padding=0, dilation=1, ceil_mode=False)\n",
       "  )\n",
       "  (classifier): Sequential(\n",
       "    (0): Linear(in_features=400, out_features=120, bias=True)\n",
       "    (1): ReLU()\n",
       "    (2): Linear(in_features=120, out_features=84, bias=True)\n",
       "    (3): ReLU()\n",
       "    (4): Linear(in_features=84, out_features=10, bias=True)\n",
       "  )\n",
       ")>"
      ]
     },
     "execution_count": 9,
     "metadata": {},
     "output_type": "execute_result"
    }
   ],
   "source": [
    "#以LeNet为例子，首先定义一个LeNet网络\n",
    "import torch as t\n",
    "import torch.nn as nn\n",
    "from torch.autograd import variable as var\n",
    "class Net(nn.Module):\n",
    "    def __init__(self):\n",
    "        nn.Module.__init__(self)\n",
    "        self.features = nn.Sequential(\n",
    "        nn.Conv2d(3,6,5),\n",
    "        nn.ReLU(),\n",
    "        nn.MaxPool2d(2,2),\n",
    "        nn.Conv2d(6,16,5),\n",
    "        nn.ReLU(),\n",
    "        nn.MaxPool2d(2,2)\n",
    "        )\n",
    "        \n",
    "        self.classifier = nn.Sequential(\n",
    "        nn.Linear(16*5*5,120),\n",
    "        nn.ReLU(),\n",
    "        nn.Linear(120,84),\n",
    "        nn.ReLU(),\n",
    "        nn.Linear(84,10)\n",
    "        )\n",
    "        \n",
    "    def forward(self,x):\n",
    "        x = self.features(x)\n",
    "        x = x.view(-1,16*5*5)\n",
    "        x = self.classifier(x)\n",
    "        return x\n",
    "    \n",
    "net = Net()\n",
    "net.parameters#注意这里没有括号，否则只是参数地址"
   ]
  },
  {
   "cell_type": "code",
   "execution_count": 11,
   "metadata": {},
   "outputs": [],
   "source": [
    "from torch import optim\n",
    "optimizer = optim.SGD(params=net.parameters(),lr = 1)\n",
    "optimizer.zero_grad()#梯度清零，等价于 net.zero_grad()\n",
    "\n",
    "inputs = var(t.randn(1,3,32,32))\n",
    "output = net(inputs)\n",
    "output.backward(output) #fake backward\n",
    "\n",
    "optimizer.step() #执行优化"
   ]
  },
  {
   "cell_type": "code",
   "execution_count": 14,
   "metadata": {},
   "outputs": [],
   "source": [
    "#如果对于某个参数不指定学习率，就使用默认学习率\n",
    "#为不同网络参数设置不同的学习率\n",
    "optimizer = optim.SGD(\n",
    "[\n",
    "    {'params':net.features.parameters()},{'params':net.classifier.parameters(),'lr':1e-2}\n",
    "],lr = 1e-5)"
   ]
  },
  {
   "cell_type": "code",
   "execution_count": 1,
   "metadata": {},
   "outputs": [],
   "source": [
    "#nn.Module和nn.functional差不多，推荐卷积、全连接等有学习吕的网络和使用Module，其他的可以使用function"
   ]
  },
  {
   "cell_type": "code",
   "execution_count": 2,
   "metadata": {},
   "outputs": [],
   "source": [
    "#例子，可以手动实现He大神的ResNet\n",
    "#同样torchvision 中也有很多经典的模型已经备好\n",
    "from torchvision import models\n",
    "model = models.resnet34()"
   ]
  }
 ],
 "metadata": {
  "kernelspec": {
   "display_name": "Python 3",
   "language": "python",
   "name": "python3"
  },
  "language_info": {
   "codemirror_mode": {
    "name": "ipython",
    "version": 3
   },
   "file_extension": ".py",
   "mimetype": "text/x-python",
   "name": "python",
   "nbconvert_exporter": "python",
   "pygments_lexer": "ipython3",
   "version": "3.7.4"
  }
 },
 "nbformat": 4,
 "nbformat_minor": 2
}
