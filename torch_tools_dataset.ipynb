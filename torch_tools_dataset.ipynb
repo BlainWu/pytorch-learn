{
 "cells": [
  {
   "cell_type": "code",
   "execution_count": 1,
   "metadata": {},
   "outputs": [],
   "source": [
    "#数据处理\n",
    "#数据的处理是训练的基础，良好的数据集不仅会加速模型训练，也会提高模型效果"
   ]
  },
  {
   "cell_type": "code",
   "execution_count": null,
   "metadata": {},
   "outputs": [],
   "source": [
    "##数据加载\n",
    "#自定义数据集对象，可以继承Dataset类，并且有两个魔法方法\n",
    "#__getitem__:返回一个数据或者样本，常使用为 dataset_name[index] 或者dataset_name.__getitem__()\n",
    "#__len__：返回样本数量 len(obj)或者 obj.__len__()\n"
   ]
  }
 ],
 "metadata": {
  "kernelspec": {
   "display_name": "Python 3",
   "language": "python",
   "name": "python3"
  },
  "language_info": {
   "codemirror_mode": {
    "name": "ipython",
    "version": 3
   },
   "file_extension": ".py",
   "mimetype": "text/x-python",
   "name": "python",
   "nbconvert_exporter": "python",
   "pygments_lexer": "ipython3",
   "version": "3.7.4"
  }
 },
 "nbformat": 4,
 "nbformat_minor": 2
}
