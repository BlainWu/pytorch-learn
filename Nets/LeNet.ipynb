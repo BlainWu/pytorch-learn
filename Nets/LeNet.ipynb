{
 "cells": [
  {
   "cell_type": "code",
   "execution_count": 1,
   "metadata": {},
   "outputs": [],
   "source": [
    "#nn模块构建于autograd模块之上，模块化了一些结构\n",
    "#首先需要继承nn.Moudle,并实现forward"
   ]
  },
  {
   "cell_type": "code",
   "execution_count": 2,
   "metadata": {},
   "outputs": [],
   "source": [
    "import torch.nn as nn\n",
    "import torch.nn.functional as Func\n",
    "\n",
    "class LeNet(nn.Module):\n",
    "    def __init__(self):\n",
    "        #nn.module的子类必须在构造函数中执行父类的构造函数\n",
    "        #下面的等价于nn.Module.__init__(self)\n",
    "        super(LeNet,self).__init__()\n",
    "        #卷基层'1'输入图片为单通道图片，‘6’为输出通道数，'5'表示卷积核5*5\n",
    "        self.conv1 = nn.Conv2d(1,6,5)\n",
    "        self.conv2 = nn.Conv2d(6,16,5)\n",
    "        #全链接层，y=wh+b\n",
    "        self.fc1 = nn.Linear(16*5*5,120)\n",
    "        self.fc2 = nn.Linear(120,84)\n",
    "        self.fc3 = nn.Linear(84,10)\n",
    "        \n",
    "    def forward(self,x):\n",
    "        #卷积->激活->池化 \n",
    "        x = Func.max_pool2d(Func.relu(self.conv1(x)),(2,2))\n",
    "        x = Func.max_pool2d(Func.relu(self.conv2(x)),2)\n",
    "        #把x重新排列，默认-1\n",
    "        x = x.view(x.size()[0],-1)\n",
    "        x = Func.relu(self.fc1(x))\n",
    "        x = Func.relu(self.fc2(x))\n",
    "        x = self.fc3(x)\n",
    "        return x"
   ]
  },
  {
   "cell_type": "code",
   "execution_count": 3,
   "metadata": {},
   "outputs": [
    {
     "name": "stdout",
     "output_type": "stream",
     "text": [
      "LeNet(\n",
      "  (conv1): Conv2d(1, 6, kernel_size=(5, 5), stride=(1, 1))\n",
      "  (conv2): Conv2d(6, 16, kernel_size=(5, 5), stride=(1, 1))\n",
      "  (fc1): Linear(in_features=400, out_features=120, bias=True)\n",
      "  (fc2): Linear(in_features=120, out_features=84, bias=True)\n",
      "  (fc3): Linear(in_features=84, out_features=10, bias=True)\n",
      ")\n"
     ]
    }
   ],
   "source": [
    "net = LeNet()\n",
    "print(net)"
   ]
  },
  {
   "cell_type": "code",
   "execution_count": 4,
   "metadata": {},
   "outputs": [
    {
     "name": "stdout",
     "output_type": "stream",
     "text": [
      "10\n",
      "conv1.weight : torch.Size([6, 1, 5, 5])\n",
      "conv1.bias : torch.Size([6])\n",
      "conv2.weight : torch.Size([16, 6, 5, 5])\n",
      "conv2.bias : torch.Size([16])\n",
      "fc1.weight : torch.Size([120, 400])\n",
      "fc1.bias : torch.Size([120])\n",
      "fc2.weight : torch.Size([84, 120])\n",
      "fc2.bias : torch.Size([84])\n",
      "fc3.weight : torch.Size([10, 84])\n",
      "fc3.bias : torch.Size([10])\n"
     ]
    }
   ],
   "source": [
    "#可通过net.parameters()获得参数\n",
    "params = list(net.parameters())\n",
    "#不要直接打印出来，因为会把所有信息都打印出来\n",
    "print(len(params))\n",
    "#循环遍历出\n",
    "for name,param in net.named_parameters():\n",
    "    print(name,':',param.size())"
   ]
  },
  {
   "cell_type": "code",
   "execution_count": 5,
   "metadata": {},
   "outputs": [],
   "source": [
    "#只有variable才有自动求导功能，Tensor不可以\n",
    "#所以输入要先变成variable形式\n",
    "from torch.autograd import Variable\n",
    "import torch as t\n",
    "input = Variable(t.randn(1,1,32,32))\n",
    "out = net(input)\n",
    "out.size()\n",
    "\n",
    "net.zero_grad()#clear\n",
    "out.backward(Variable(t.ones(1,10)))"
   ]
  },
  {
   "cell_type": "code",
   "execution_count": null,
   "metadata": {},
   "outputs": [],
   "source": []
  },
  {
   "cell_type": "code",
   "execution_count": null,
   "metadata": {},
   "outputs": [],
   "source": []
  }
 ],
 "metadata": {
  "kernelspec": {
   "display_name": "Python 3",
   "language": "python",
   "name": "python3"
  },
  "language_info": {
   "codemirror_mode": {
    "name": "ipython",
    "version": 3
   },
   "file_extension": ".py",
   "mimetype": "text/x-python",
   "name": "python",
   "nbconvert_exporter": "python",
   "pygments_lexer": "ipython3",
   "version": "3.7.4"
  }
 },
 "nbformat": 4,
 "nbformat_minor": 2
}
